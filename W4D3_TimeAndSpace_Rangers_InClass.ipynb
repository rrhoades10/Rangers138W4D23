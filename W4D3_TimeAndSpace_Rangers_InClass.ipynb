{
 "cells": [
  {
   "cell_type": "markdown",
   "metadata": {},
   "source": [
    "# Time/Space Complexity - Intro to Data Structures (User Defined)\n",
    "\n",
    "### Topics to discuss today:\n",
    "\n",
    "<ul>\n",
    "    <li>Time and Space Complexity - What is it/How do we measure it</li>\n",
    "    <li>Asymptotic Analysis</li>\n",
    "    <li><strong>Data Structures</strong></li>\n",
    "</ul>\n",
    "\n",
    "### Data Structures to discuss:\n",
    "- Arrays\n",
    "- Stacks\n",
    "- Queues\n",
    "- Linked Lists\n",
    "    - Singly Linked Lists\n",
    "    - Traversing A Linked List\n",
    "    - Finding a node in a linked list\n",
    "    - Adding to a linked list\n"
   ]
  },
  {
   "cell_type": "markdown",
   "metadata": {},
   "source": [
    "## Time and Space Complexity\n",
    "\n",
    "#### What is it?\n",
    "\n",
    "Time and space complexity is the measure of how much time a given action(function) will take to solve a problem. In the same fashion, we determine how much a given data structure will need in terms of memory allocation. A problem can have multiple solutions and finding the optimal solution for the problem needs to be analyzed in time and space.\n",
    "\n",
    "#### How do we measure Time and Space Complexity?\n",
    "\n",
    "In order to measure time and space complexity we use Asymptotic analysis. The reason for this is because we need a way to measure different algorithms (functions) based on the size of their inputs in a mathmatical way. For example, we could have a function that is computed as f(n) and another that is g(n^2). All things around the function staying constant, the only thing that changes is the size of the input. Below is the chart that shows the different Asymptotic analysis formats. "
   ]
  },
  {
   "cell_type": "markdown",
   "metadata": {},
   "source": [
    "<table style=\"text-align:center;\" class=\"table table-bordered\">\n",
    "<tbody><tr>\n",
    "<td>constant</td>\n",
    "<td>−</td>\n",
    "<td>Ο(1)</td>\n",
    "</tr>\n",
    "<tr>\n",
    "<td>logarithmic</td>\n",
    "<td>−</td>\n",
    "<td>Ο(log n)</td>\n",
    "</tr>\n",
    "<tr>\n",
    "<td>linear</td>\n",
    "<td>−</td>\n",
    "<td>Ο(n)</td>\n",
    "</tr>\n",
    "<tr>\n",
    "<td>Linear Logarithmic</td>\n",
    "<td>−</td>\n",
    "<td>Ο(n log n)</td>\n",
    "</tr>\n",
    "<tr>\n",
    "<td>quadratic</td>\n",
    "<td>−</td>\n",
    "<td>Ο(n<sup>2</sup>)</td>\n",
    "</tr>\n",
    "<tr>\n",
    "<td>cubic</td>\n",
    "<td>−</td>\n",
    "<td>Ο(n<sup>3</sup>)</td>\n",
    "</tr>\n",
    "<tr>\n",
    "<td>polynomial</td>\n",
    "<td>−</td>\n",
    "<td>n<sup>Ο(1)</sup></td>\n",
    "</tr>\n",
    "<tr>\n",
    "<td>exponential</td>\n",
    "<td>−</td>\n",
    "<td>2<sup>Ο(n)</sup></td>\n",
    "</tr>\n",
    "</tbody></table>"
   ]
  },
  {
   "cell_type": "code",
   "execution_count": 10,
   "metadata": {},
   "outputs": [
    {
     "ename": "IndentationError",
     "evalue": "expected an indented block (3513420339.py, line 53)",
     "output_type": "error",
     "traceback": [
      "\u001b[1;36m  Input \u001b[1;32mIn [10]\u001b[1;36m\u001b[0m\n\u001b[1;33m    \u001b[0m\n\u001b[1;37m    ^\u001b[0m\n\u001b[1;31mIndentationError\u001b[0m\u001b[1;31m:\u001b[0m expected an indented block\n"
     ]
    }
   ],
   "source": [
    "# Constant Time O(1)\n",
    "def add_nums(num1, num2):\n",
    "    return num1 + num2 #only performs one operation regardless of arguments passed in\n",
    "\n",
    "# Logarithmic O(log n)\n",
    "# Breaking a list into two parts, and consolidating the search for the target\n",
    "# Never iterating through the entirety of the list\n",
    "# binary list needs to be sorted because the smaller numbers need to be to the left\n",
    "# and larger numbers need to be on the right\n",
    "def binary_search(array, target):\n",
    "    left = 0\n",
    "    right = len(array) - 1\n",
    "    while left <= right:\n",
    "        middle = (left + right) // 2\n",
    "        potential_match = array[middle]\n",
    "        if target == potential_match:\n",
    "            return f\"The index is...{middle}\"\n",
    "        elif target < potential_match:\n",
    "            right = middle - 1\n",
    "        else:\n",
    "            left = middle + 1\n",
    "    return -1\n",
    "#Linear Time - O(n)\n",
    "arr = [1, 2, 3, 4, 5]\n",
    "def print_num(alist):\n",
    "    for num in alist:\n",
    "        print(num)\n",
    "print_num(arr)\n",
    "\n",
    "# Worst Case\n",
    "# Not all lists we pass into this function are going to start with 1\n",
    "# so worst case, either there is no 1 or 1 is at the back of the list\n",
    "def find_num(alist):\n",
    "    for num in alist:\n",
    "        if num == 1:\n",
    "            return \"A One\"\n",
    "\n",
    "# Quadratic Time O(n^2)\n",
    "# double nested linear operation\n",
    "# nested loops\n",
    "# for each iteration of the first list we have to traverse the entirety of the second list\n",
    "def print_nums2(arr1, arr2):\n",
    "    for num in arr1:\n",
    "        for num2 in arr2:\n",
    "            print(num1 + num2)\n",
    "arr1 = [1, 2, 3, 4, 5, 6, 7, 8]\n",
    "arr2 = [9, 10, 11, 12, 13, 14, 15, 16]\n",
    "\n",
    "# Cubic O(n^3)\n",
    "#triply nested linear operation\n",
    "def print_nums3(arr1, arr2, arr3):\n",
    "    for num1 in arr1:\n",
    "        for num2 in arr2:\n",
    "            for num3 in arr3:\n",
    "                print(num1 + num2 + num3)\n",
    "arr1 = [1, 2, 3, 4, 5, 6, 7, 8]\n",
    "arr2 = [9, 10, 11, 12, 13, 14, 15, 16]\n",
    "arr3 = [9, 10, 11, 12, 13, 14, 15, 16]\n",
    "\n",
    "\n"
   ]
  },
  {
   "cell_type": "markdown",
   "metadata": {},
   "source": [
    "## Arrays"
   ]
  },
  {
   "cell_type": "markdown",
   "metadata": {},
   "source": [
    "In python we benefit from the dynamic array which means the block of memory will expand as needed for the given input to the array. In traditional arrays (depending on the type of operating system) we will usually store our inputs in 4 or 8 consecutive blocks of memory. Below is a diagram of how that looks under the hood:\n",
    "\n",
    "## Which in python looks like this:\n",
    "\n",
    "\n",
    "<br><img src=\"http://www.cs.emory.edu/~cheung/Courses/170/Syllabus/09/FIGS/array02x.gif\" style=\"height:300px; width:450px;\"><br>"
   ]
  },
  {
   "cell_type": "markdown",
   "metadata": {},
   "source": [
    "### Let's take a look at some of the time and space analysis of arrays"
   ]
  },
  {
   "cell_type": "code",
   "execution_count": 11,
   "metadata": {},
   "outputs": [
    {
     "name": "stdout",
     "output_type": "stream",
     "text": [
      "its here\n",
      "[1, 2, 20, 4, 5]\n"
     ]
    }
   ],
   "source": [
    "# Indexing an Array (list)\n",
    "# Constant Time and Space O(1)\n",
    "# arr[i]\n",
    "# Constant for both because:\n",
    "# The single operation is grabbing the item at whatever index we're providing\n",
    "# then we set a variable to that integer\n",
    "my_list = [1, 2, 3, 4, 5]\n",
    "my_num = my_list[3]\n",
    "\n",
    "# Searching through an array\n",
    "# Linear Time O(n) and Constant Space O(1)\n",
    "# We need to check each item in the list to see if the thing we're seraching for is there\n",
    "# Constant space because no variables are set at all\n",
    "if 1 in my_list:\n",
    "    print(\"its here\")\n",
    "\n",
    "# Copying an Array\n",
    "#Linear Time O(n) and Linear Space O(n)\n",
    "my_list_copy = my_list[:]\n",
    "empty_list = []\n",
    "for num in my_list:\n",
    "    empty_list.append(num)\n",
    "\n",
    "# Setting and Index\n",
    "#Constant Time O(1) and Constant Space O(1)\n",
    "my_list[2] = 20\n",
    "print(my_list)\n",
    "\n",
    "\n"
   ]
  },
  {
   "cell_type": "markdown",
   "metadata": {},
   "source": [
    "## Stacks and Queues\n",
    "\n",
    "** Stacks ** as the name suggests is a data structure that allows for data to follow the Last In First Out priciple(LIFO). Think of a stack of pancakes for example. To get the first pancake you would  start with the top and go down.\n",
    "\n",
    "##### Searching through a stack will be Linear Time O(n) - Constant Space O(1)\n",
    "##### Selecting the last item will be done in Constant Time O(1) - Constant Space O(1)\n",
    "##### Adding to the stack should take Constant Time O(1) - Constant Space O(1)\n",
    "\n",
    "** Queues ** are similar but in this case follow the First In First Out principle(FIFO). Think of this as a line in a black friday sale. The first person camped out for the big screen tv is the first to get it.\n",
    "\n",
    "##### Searching through a queue will be Linear Time O(n) - Constant Space O(1)\n",
    "##### Selecting the first item will be done in Constant Time O(1) - Constant Space O(1)\n",
    "##### Adding to the queue should take Constant Time O(1) - Constant Space O(1)"
   ]
  },
  {
   "cell_type": "code",
   "execution_count": 17,
   "metadata": {},
   "outputs": [
    {
     "name": "stdout",
     "output_type": "stream",
     "text": [
      "['pancake1']\n",
      "['pancake1', 'pancake2']\n",
      "['pancake1', 'pancake2', 'pancake3']\n",
      "['pancake1', 'pancake2', 'pancake3', 'pancake4']\n",
      "pancake4\n",
      "['pancake1', 'pancake2', 'pancake3']\n",
      "pancake3\n",
      "['pancake1', 'pancake2']\n"
     ]
    }
   ],
   "source": [
    "#Stacks \n",
    "# Last In First Out - LIFO\n",
    "stack = [\"pancake1\"]\n",
    "print(stack)\n",
    "stack.append(\"pancake2\")\n",
    "print(stack)\n",
    "stack.append(\"pancake3\")\n",
    "print(stack)\n",
    "stack.append(\"pancake4\")\n",
    "print(stack)\n",
    "print(stack.pop())\n",
    "print(stack)\n",
    "print(stack.pop())\n",
    "print(stack)\n",
    "\n"
   ]
  },
  {
   "cell_type": "code",
   "execution_count": 22,
   "metadata": {},
   "outputs": [
    {
     "name": "stdout",
     "output_type": "stream",
     "text": [
      "['shopper']\n",
      "['shopper', 'shopper2']\n",
      "['shopper', 'shopper2', 'shopper3']\n",
      "['shopper', 'shopper2', 'shopper3', 'shopper4']\n",
      "shopper\n",
      "['shopper2', 'shopper3', 'shopper4']\n",
      "shopper2\n",
      "['shopper3', 'shopper4']\n"
     ]
    }
   ],
   "source": [
    "#Queues\n",
    "# First in First Out - FIFO\n",
    "queue = ['shopper']\n",
    "print(queue)\n",
    "queue.append(\"shopper2\")\n",
    "print(queue)\n",
    "queue.append(\"shopper3\")\n",
    "print(queue)\n",
    "queue.append(\"shopper4\")\n",
    "print(queue)\n",
    "print(queue.pop(0))\n",
    "print(queue)\n",
    "print(queue.pop(0))\n",
    "print(queue)\n"
   ]
  },
  {
   "cell_type": "code",
   "execution_count": 29,
   "metadata": {},
   "outputs": [
    {
     "name": "stdout",
     "output_type": "stream",
     "text": [
      "deque([])\n",
      "deque(['pancake1'])\n",
      "deque(['pancake2', 'pancake1'])\n",
      "deque(['pancake3', 'pancake2', 'pancake1'])\n",
      "deque(['pancake4', 'pancake3', 'pancake2', 'pancake1'])\n",
      "pancake4\n",
      "deque(['pancake3', 'pancake2', 'pancake1'])\n",
      "pancake3\n",
      "deque(['pancake2', 'pancake1'])\n"
     ]
    }
   ],
   "source": [
    "from collections import deque\n",
    "#stack \n",
    "#first pancake in, last pancake out\n",
    "\n",
    "stack = deque()\n",
    "print(stack)\n",
    "stack.appendleft(\"pancake1\")\n",
    "print(stack)\n",
    "stack.appendleft(\"pancake2\")\n",
    "print(stack)\n",
    "stack.appendleft(\"pancake3\")\n",
    "print(stack)\n",
    "stack.appendleft(\"pancake4\")\n",
    "print(stack)\n",
    "print(stack.popleft())\n",
    "print(stack)\n",
    "print(stack.popleft())\n",
    "print(stack)"
   ]
  },
  {
   "cell_type": "code",
   "execution_count": 31,
   "metadata": {},
   "outputs": [
    {
     "name": "stdout",
     "output_type": "stream",
     "text": [
      "deque(['shopper'])\n",
      "deque(['shopper2', 'shopper'])\n",
      "deque(['shopper3', 'shopper2', 'shopper'])\n",
      "deque(['shopper4', 'shopper3', 'shopper2', 'shopper'])\n",
      "shopper\n",
      "deque(['shopper4', 'shopper3', 'shopper2'])\n",
      "shopper2\n",
      "deque(['shopper4', 'shopper3'])\n"
     ]
    }
   ],
   "source": [
    "from collections import deque\n",
    "# Queue\n",
    "# First Shopper in, First shopper out\n",
    "queue = deque()\n",
    "queue.appendleft(\"shopper\")\n",
    "print(queue)\n",
    "queue.appendleft(\"shopper2\")\n",
    "print(queue)\n",
    "queue.appendleft(\"shopper3\")\n",
    "print(queue)\n",
    "queue.appendleft(\"shopper4\")\n",
    "print(queue)\n",
    "\n",
    "print(queue.pop())\n",
    "print(queue)\n",
    "print(queue.pop())\n",
    "print(queue)"
   ]
  },
  {
   "cell_type": "markdown",
   "metadata": {},
   "source": [
    "# Sum of Parts Time Compelxity Exercise"
   ]
  },
  {
   "cell_type": "code",
   "execution_count": null,
   "metadata": {},
   "outputs": [],
   "source": [
    "#sum of parts\n",
    "https://www.codewars.com/kata/5ce399e0047a45001c853c2b"
   ]
  },
  {
   "cell_type": "code",
   "execution_count": 32,
   "metadata": {},
   "outputs": [
    {
     "data": {
      "text/plain": [
       "[0, 1, 3, 6, 10]"
      ]
     },
     "execution_count": 32,
     "metadata": {},
     "output_type": "execute_result"
    }
   ],
   "source": [
    "def parts_sums(ls):\n",
    "    my_ls = ls[:]\n",
    "    empty_list = []\n",
    "    for num in ls:\n",
    "        empty_list.append(num)\n",
    "    return empty_list\n",
    "parts_sums([0, 1, 3, 6, 10])"
   ]
  },
  {
   "cell_type": "code",
   "execution_count": 33,
   "metadata": {},
   "outputs": [
    {
     "name": "stdout",
     "output_type": "stream",
     "text": [
      "[20]\n",
      "[20, 20]\n",
      "[20, 20, 19]\n",
      "[20, 20, 19, 16]\n",
      "[20, 20, 19, 16, 10]\n"
     ]
    },
    {
     "data": {
      "text/plain": [
       "[20, 20, 19, 16, 10, 0]"
      ]
     },
     "execution_count": 33,
     "metadata": {},
     "output_type": "execute_result"
    }
   ],
   "source": [
    "from collections import deque\n",
    "\n",
    "def parts_sums(ls):\n",
    "    new_ls = deque(ls)\n",
    "    sums_list = []\n",
    "    total = 0\n",
    "    \n",
    "    for i in ls:\n",
    "        \n",
    "        total = sum(new_ls)        \n",
    "        sums_list.append(total)\n",
    "        new_ls.popleft()\n",
    "        print(sums_list)\n",
    "        \n",
    "    sums_list.append(0)\n",
    "        \n",
    "    return sums_list\n"
   ]
  },
  {
   "cell_type": "code",
   "execution_count": null,
   "metadata": {},
   "outputs": [],
   "source": [
    "from collections import deque\n",
    "\n",
    "def parts_sums(ls):\n",
    "    \n",
    "    ls_deque = deque(ls)\n",
    "    sum_list = deque()\n",
    "\n",
    "    current_sum = sum(ls_deque)\n",
    "    sum_list.append(current_sum)\n",
    "\n",
    "    while ls_deque:\n",
    "        current_sum -= ls_deque.popleft()\n",
    "        sum_list.append(current_sum)\n",
    "\n",
    "    return list(sum_list)\n",
    "\n",
    "parts_sums(ls4)"
   ]
  },
  {
   "cell_type": "code",
   "execution_count": 34,
   "metadata": {},
   "outputs": [
    {
     "data": {
      "text/plain": [
       "[20, 20, 19, 16, 10, 0]"
      ]
     },
     "execution_count": 34,
     "metadata": {},
     "output_type": "execute_result"
    }
   ],
   "source": [
    "def parts_sums(ls):\n",
    "    \n",
    "    total_sum = sum(ls)\n",
    "    sum_list = [total_sum]\n",
    "    \n",
    "    for num in ls:\n",
    "        total_sum -= num\n",
    "        sum_list.append(total_sum)\n",
    "        \n",
    "    return sum_list\n",
    "\n",
    "parts_sums([0, 1, 3, 6, 10])"
   ]
  },
  {
   "cell_type": "markdown",
   "metadata": {},
   "source": [
    "## Linked List (Data Structure)\n",
    "\n",
    "A linked list is created by using the node class. We create a Node object and create another class to use this node object. We pass the appropriate values thorugh the node object to point the to the next data elements.\n",
    "\n",
    "There are some advantages and disadvantages with this data structure. **Advantages** Linked Lists can save memory because they can be flexibile with memory management which saves memory. **Disadvantages** Finding or adding to the list requires traversing the entire list."
   ]
  },
  {
   "cell_type": "code",
   "execution_count": 36,
   "metadata": {},
   "outputs": [],
   "source": [
    "# Complete implementaion of a linked list\n",
    "\n",
    "# 2 Components\n",
    "# Node Class\n",
    "# Linked List Class\n",
    "\n",
    "#Node Class\n",
    "class Node():\n",
    "    def __init__(self, value):\n",
    "        self.value = value\n",
    "        self.next = None\n",
    "\n",
    "class LinkedList():\n",
    "    def __init__(self):\n",
    "        self.head = None # front of the linked_list\n",
    "\n",
    "    # pushOn - place item at the head of the list -- the beginning\n",
    "    def pushOn(self, new_value):\n",
    "        #create a node object, using the new_value parameter as our node value\n",
    "        new_node = Node(new_value)\n",
    "        new_node.next = self.head\n",
    "        self.head = new_node\n",
    "\n",
    "    # inserting a new node by position (or index)\n",
    "    def insertKnownPosition(self, position, new_value):\n",
    "        # create the new node object\n",
    "        new_node = Node(new_value)\n",
    "\n",
    "        # starting at the head (beginning) of the linked_list\n",
    "        current_node = self.head\n",
    "        next_node = current_node.next\n",
    "\n",
    "        #traversing linked list until we get to our desired position\n",
    "        for i in range(position - 1):\n",
    "            current_node = next_node\n",
    "            next_node = current_node.next\n",
    "\n",
    "        new_node.next = current_node.next\n",
    "        current_node.next = new_node\n",
    "\n",
    "    # delete a node\n",
    "    def deleteNode(self, value):\n",
    "        #start at the beginngin of the linked list\n",
    "        current_node = self.head\n",
    "        next_node = current_node.next\n",
    "\n",
    "        # traverse until we find the node the node that is the same as our value\n",
    "        while current_node.value != value and next_node.next:\n",
    "            print(current_node.value)\n",
    "            prev_node = current_node\n",
    "            current_node = next_node\n",
    "            next_node = current_node.next\n",
    "\n",
    "        # if we've reached the end of our linked list and the value was not found\n",
    "        if not next_node.next and current_node.value != value:\n",
    "            return \"Value does not exist\"\n",
    "\n",
    "        # setting the previous nodes next to the next node and delete our current node\n",
    "        prev_node.next = next_node\n",
    "        del current_node\n",
    "\n",
    "    # append (add) a new node to the back (TAIL) of the linked list\n",
    "    def append_(self, new_value):\n",
    "        #create new node object\n",
    "        new_node = Node(new_value)\n",
    "\n",
    "        # check if linked list is empty\n",
    "        #if it is, the new_node will become the head of the linked_list\n",
    "        if self.head is None:\n",
    "            self.head = new_node\n",
    "\n",
    "        #if not empty, traverse the linked list in search of the tail\n",
    "        last = self.head\n",
    "\n",
    "        #change the current last to our new_value, and continuosly check for an empty next\n",
    "        while last.next:\n",
    "            last = last.next\n",
    "\n",
    "        #change the current last node objecto point to the new _value\n",
    "        last.next = new_node\n",
    "\n",
    "    # traversing our linked list- move through the list\n",
    "    def traverse(self):\n",
    "        temp = self.head\n",
    "\n",
    "        #while temp is not none --> keep schmoovin through the list until we find a night\n",
    "        while temp:\n",
    "            print(temp.value)\n",
    "            temp = temp.next\n",
    "        print(\"end of list\")\n",
    "        \n",
    "        \n",
    "        \n",
    "        \n",
    "    "
   ]
  },
  {
   "cell_type": "code",
   "execution_count": 46,
   "metadata": {},
   "outputs": [],
   "source": [
    "weekdays_list = LinkedList()\n",
    "weekdays_list.pushOn(\"Monday\")\n",
    "weekdays_list.append_(\"Wednesday\")\n",
    "# weekdays_list.traverse()\n",
    "weekdays_list.insertKnownPosition(1, \"Tuesday\")\n",
    "# weekdays_list.traverse()\n",
    "# print(\"\\n\")\n",
    "weekdays_list.append_(\"Friday\")\n",
    "# weekdays_list.traverse()\n",
    "# print(\"\\n\")\n",
    "weekdays_list.insertKnownPosition(3, \"Thursday\")\n",
    "# weekdays_list.traverse()\n",
    "# print(\"\\n\")\n",
    "weekdays_list.pushOn(\"Sunday\")\n",
    "weekdays_list.append_(\"Saturday\")"
   ]
  },
  {
   "cell_type": "code",
   "execution_count": 47,
   "metadata": {
    "scrolled": true
   },
   "outputs": [
    {
     "name": "stdout",
     "output_type": "stream",
     "text": [
      "Sunday\n",
      "Monday\n",
      "Tuesday\n",
      "Wednesday\n",
      "Thursday\n",
      "Friday\n",
      "Saturday\n",
      "end of list\n"
     ]
    }
   ],
   "source": [
    "weekdays_list.traverse()"
   ]
  },
  {
   "cell_type": "code",
   "execution_count": 48,
   "metadata": {},
   "outputs": [
    {
     "name": "stdout",
     "output_type": "stream",
     "text": [
      "Sunday\n",
      "Monday\n",
      "Tuesday\n"
     ]
    }
   ],
   "source": [
    "weekdays_list.deleteNode(\"Wednesday\")"
   ]
  },
  {
   "cell_type": "code",
   "execution_count": 49,
   "metadata": {},
   "outputs": [
    {
     "name": "stdout",
     "output_type": "stream",
     "text": [
      "Sunday\n",
      "Monday\n",
      "Tuesday\n",
      "Thursday\n",
      "Friday\n",
      "Saturday\n",
      "end of list\n"
     ]
    }
   ],
   "source": [
    "weekdays_list.traverse()"
   ]
  }
 ],
 "metadata": {
  "kernelspec": {
   "display_name": "Python 3 (ipykernel)",
   "language": "python",
   "name": "python3"
  },
  "language_info": {
   "codemirror_mode": {
    "name": "ipython",
    "version": 3
   },
   "file_extension": ".py",
   "mimetype": "text/x-python",
   "name": "python",
   "nbconvert_exporter": "python",
   "pygments_lexer": "ipython3",
   "version": "3.9.4"
  }
 },
 "nbformat": 4,
 "nbformat_minor": 4
}
